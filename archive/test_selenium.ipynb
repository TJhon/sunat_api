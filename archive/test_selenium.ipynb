{
 "cells": [
  {
   "cell_type": "code",
   "execution_count": 64,
   "metadata": {},
   "outputs": [],
   "source": [
    "import pandas as pd, numpy as np, sqlite3\n",
    "data = pd.read_csv(\"./data/taxes.csv\")\n"
   ]
  },
  {
   "cell_type": "code",
   "execution_count": 15,
   "metadata": {},
   "outputs": [
    {
     "data": {
      "text/plain": [
       "Index(['TIPO DE PRODUCTO:', 'Gravámenes Vigentes', 'Ad / Valorem',\n",
       "       'Impuesto Selectivo al Consumo', 'Impuesto General a las Ventas',\n",
       "       'Impuesto de Promoción Municipal', 'Derecho Específicos',\n",
       "       'Derecho Antidumping', 'Seguro', 'Sobretasa Tributo',\n",
       "       'Unidad de Medida:', 'Sobretasa Sanción', 'hs_code'],\n",
       "      dtype='object')"
      ]
     },
     "execution_count": 15,
     "metadata": {},
     "output_type": "execute_result"
    }
   ],
   "source": [
    "data.columns"
   ]
  },
  {
   "cell_type": "code",
   "execution_count": 17,
   "metadata": {},
   "outputs": [
    {
     "data": {
      "text/html": [
       "<div>\n",
       "<style scoped>\n",
       "    .dataframe tbody tr th:only-of-type {\n",
       "        vertical-align: middle;\n",
       "    }\n",
       "\n",
       "    .dataframe tbody tr th {\n",
       "        vertical-align: top;\n",
       "    }\n",
       "\n",
       "    .dataframe thead th {\n",
       "        text-align: right;\n",
       "    }\n",
       "</style>\n",
       "<table border=\"1\" class=\"dataframe\">\n",
       "  <thead>\n",
       "    <tr style=\"text-align: right;\">\n",
       "      <th></th>\n",
       "      <th>TIPO DE PRODUCTO:</th>\n",
       "      <th>Gravámenes Vigentes</th>\n",
       "      <th>Ad / Valorem</th>\n",
       "      <th>Impuesto Selectivo al Consumo</th>\n",
       "      <th>Impuesto General a las Ventas</th>\n",
       "      <th>Impuesto de Promoción Municipal</th>\n",
       "      <th>Derecho Específicos</th>\n",
       "      <th>Derecho Antidumping</th>\n",
       "      <th>Seguro</th>\n",
       "      <th>Sobretasa Tributo</th>\n",
       "      <th>Unidad de Medida:</th>\n",
       "      <th>Sobretasa Sanción</th>\n",
       "      <th>hs_code</th>\n",
       "    </tr>\n",
       "  </thead>\n",
       "  <tbody>\n",
       "    <tr>\n",
       "      <th>0</th>\n",
       "      <td>LEY 29666-IGV 20.02.11</td>\n",
       "      <td>Valor</td>\n",
       "      <td>0%</td>\n",
       "      <td>0%</td>\n",
       "      <td>16%</td>\n",
       "      <td>2%</td>\n",
       "      <td>0</td>\n",
       "      <td>0</td>\n",
       "      <td>2%</td>\n",
       "      <td>0%</td>\n",
       "      <td>(*)</td>\n",
       "      <td>0.0</td>\n",
       "      <td>2515110000</td>\n",
       "    </tr>\n",
       "    <tr>\n",
       "      <th>1</th>\n",
       "      <td>LEY 29666-IGV 20.02.11</td>\n",
       "      <td>Valor</td>\n",
       "      <td>0%</td>\n",
       "      <td>0%</td>\n",
       "      <td>16%</td>\n",
       "      <td>2%</td>\n",
       "      <td>0</td>\n",
       "      <td>0</td>\n",
       "      <td>2%</td>\n",
       "      <td>0%</td>\n",
       "      <td>(*)</td>\n",
       "      <td>0.0</td>\n",
       "      <td>2515200000</td>\n",
       "    </tr>\n",
       "  </tbody>\n",
       "</table>\n",
       "</div>"
      ],
      "text/plain": [
       "          TIPO DE PRODUCTO: Gravámenes Vigentes Ad / Valorem  \\\n",
       "0    LEY 29666-IGV 20.02.11               Valor           0%   \n",
       "1    LEY 29666-IGV 20.02.11               Valor           0%   \n",
       "\n",
       "  Impuesto Selectivo al Consumo Impuesto General a las Ventas  \\\n",
       "0                            0%                           16%   \n",
       "1                            0%                           16%   \n",
       "\n",
       "  Impuesto de Promoción Municipal Derecho Específicos Derecho Antidumping  \\\n",
       "0                              2%                   0                   0   \n",
       "1                              2%                   0                   0   \n",
       "\n",
       "  Seguro Sobretasa Tributo Unidad de Medida:  Sobretasa Sanción     hs_code  \n",
       "0     2%                0%               (*)                0.0  2515110000  \n",
       "1     2%                0%               (*)                0.0  2515200000  "
      ]
     },
     "execution_count": 17,
     "metadata": {},
     "output_type": "execute_result"
    }
   ],
   "source": [
    "\n",
    "data.head(2)"
   ]
  },
  {
   "cell_type": "code",
   "execution_count": 65,
   "metadata": {},
   "outputs": [
    {
     "name": "stderr",
     "output_type": "stream",
     "text": [
      "C:\\Users\\Jhon\\AppData\\Local\\Temp\\ipykernel_2428\\3909525534.py:11: FutureWarning: Downcasting behavior in `replace` is deprecated and will be removed in a future version. To retain the old behavior, explicitly call `result.infer_objects(copy=False)`. To opt-in to the future behavior, set `pd.set_option('future.no_silent_downcasting', True)`\n",
      "  data[percent_columns] = data[percent_columns].replace('N.A.', 0)\n",
      "C:\\Users\\Jhon\\AppData\\Local\\Temp\\ipykernel_2428\\3909525534.py:15: FutureWarning: Downcasting behavior in `replace` is deprecated and will be removed in a future version. To retain the old behavior, explicitly call `result.infer_objects(copy=False)`. To opt-in to the future behavior, set `pd.set_option('future.no_silent_downcasting', True)`\n",
      "  data[percent_columns] = data[percent_columns].replace('%', \"\", regex=True).astype(float) / 100\n"
     ]
    }
   ],
   "source": [
    "cl = [\n",
    "    \"ley\",\n",
    "    \"gv\",\n",
    "    \"ad_valorem\", 'excise_tax', 'igv', 'ipm', 'sp_tax', 'adp_tax', 'insurage', 'surcharge_tax', \"und\", \"penalty_charge\", \"hs_code\"\n",
    "]\n",
    "\n",
    "data = pd.read_csv(\"./data/taxes.csv\")\n",
    "percent_columns = [\"ad_valorem\", 'excise_tax', 'igv', 'ipm', 'sp_tax', 'adp_tax', 'insurage', 'surcharge_tax', 'penalty_charge']\n",
    "data.columns = cl\n",
    "# data[percent_columns] = \n",
    "data[percent_columns] = data[percent_columns].replace('N.A.', 0)\n",
    "\n",
    "data[percent_columns] = data[percent_columns].replace('Detalle', None)\n",
    "data[percent_columns] = data[percent_columns].replace('S', None)\n",
    "data[percent_columns] = data[percent_columns].replace('%', \"\", regex=True).astype(float) / 100\n",
    "\n",
    "data = data.drop(columns=['gv', 'und'])"
   ]
  },
  {
   "cell_type": "code",
   "execution_count": 62,
   "metadata": {},
   "outputs": [],
   "source": [
    "sql_data = \"./base.sqlite\"\n",
    "conn = sqlite3.connect(sql_data)\n",
    "\n",
    "data.to_sql(\"taxes\", conn, index=False, if_exists='replace')\n",
    "conn.close()\n"
   ]
  },
  {
   "cell_type": "code",
   "execution_count": 19,
   "metadata": {},
   "outputs": [],
   "source": [
    "from selenium import webdriver\n",
    "from selenium.webdriver.common.by import By\n",
    "\n",
    "import pandas as pd"
   ]
  },
  {
   "cell_type": "code",
   "execution_count": 22,
   "metadata": {},
   "outputs": [],
   "source": [
    "url = 'http://www.aduanet.gob.pe/itarancel/arancelS01Alias'\n",
    "browser = webdriver.Chrome()\n",
    "browser.get(url)"
   ]
  },
  {
   "cell_type": "code",
   "execution_count": 23,
   "metadata": {},
   "outputs": [],
   "source": [
    "hs = '2935500000'\n",
    "hs_input = \"/html/body/form/div/table/tbody/tr[1]/td/input[1]\"\n",
    "consult_click = \"/html/body/form/div/table/tbody/tr[3]/td/input[1]\"\n",
    "\n",
    "browser.find_element(By.XPATH, hs_input).send_keys(hs)\n",
    "browser.find_element(By.XPATH, consult_click).click()"
   ]
  },
  {
   "cell_type": "code",
   "execution_count": 30,
   "metadata": {},
   "outputs": [],
   "source": [
    "browser.find_element(By.XPATH, hs_input).clear()"
   ]
  },
  {
   "cell_type": "code",
   "execution_count": 6,
   "metadata": {},
   "outputs": [],
   "source": [
    "# Rescatar los valores\n",
    "\n",
    "description = browser.find_element(By.ID, \"descripcionFrame\")\n",
    "browser.switch_to.frame(description)\n",
    "table = browser.find_element(By.ID, \"descripcionFrame22\")\n",
    "\n",
    "browser.switch_to.frame(table)"
   ]
  },
  {
   "cell_type": "code",
   "execution_count": 8,
   "metadata": {},
   "outputs": [],
   "source": [
    "tbody = browser.find_element(By.XPATH, \"/html/body/div/center/table/tbody\")\n",
    "data = []\n",
    "\n",
    "for tr in tbody.find_elements(By.XPATH, \"//tr\"):\n",
    "    row = [x.text for x in tr.find_elements(By.XPATH, \".//td\")]\n",
    "    data.append(row)\n"
   ]
  },
  {
   "cell_type": "code",
   "execution_count": 37,
   "metadata": {},
   "outputs": [],
   "source": [
    "all = pd.DataFrame(data)\n",
    "# all['hs'] = hs"
   ]
  },
  {
   "cell_type": "code",
   "execution_count": 43,
   "metadata": {},
   "outputs": [],
   "source": [
    "allt = all.transpose().reset_index(drop=True)\n",
    "allt.columns = allt.iloc[0]\n",
    "allt = allt[1:]\n",
    "allt['hs_code'] = hs"
   ]
  },
  {
   "cell_type": "code",
   "execution_count": 44,
   "metadata": {},
   "outputs": [
    {
     "data": {
      "text/html": [
       "<div>\n",
       "<style scoped>\n",
       "    .dataframe tbody tr th:only-of-type {\n",
       "        vertical-align: middle;\n",
       "    }\n",
       "\n",
       "    .dataframe tbody tr th {\n",
       "        vertical-align: top;\n",
       "    }\n",
       "\n",
       "    .dataframe thead th {\n",
       "        text-align: right;\n",
       "    }\n",
       "</style>\n",
       "<table border=\"1\" class=\"dataframe\">\n",
       "  <thead>\n",
       "    <tr style=\"text-align: right;\">\n",
       "      <th></th>\n",
       "      <th>TIPO DE PRODUCTO:</th>\n",
       "      <th>Gravámenes Vigentes</th>\n",
       "      <th>Ad / Valorem</th>\n",
       "      <th>Impuesto Selectivo al Consumo</th>\n",
       "      <th>Impuesto General a las Ventas</th>\n",
       "      <th>Impuesto de Promoción Municipal</th>\n",
       "      <th>Derecho Específicos</th>\n",
       "      <th>Derecho Antidumping</th>\n",
       "      <th>Seguro</th>\n",
       "      <th>Sobretasa Tributo</th>\n",
       "      <th>Unidad de Medida:</th>\n",
       "      <th>Sobretasa Sanción</th>\n",
       "      <th>hs_code</th>\n",
       "    </tr>\n",
       "  </thead>\n",
       "  <tbody>\n",
       "    <tr>\n",
       "      <th>1</th>\n",
       "      <td>DS.342-2016-EF-LEY 29666-IGV 20.02.11</td>\n",
       "      <td>Valor</td>\n",
       "      <td>0%</td>\n",
       "      <td>0%</td>\n",
       "      <td>16%</td>\n",
       "      <td>2%</td>\n",
       "      <td>N.A.</td>\n",
       "      <td>N.A.</td>\n",
       "      <td>1.25%</td>\n",
       "      <td>0%</td>\n",
       "      <td>(*)</td>\n",
       "      <td>N.A.</td>\n",
       "      <td>2934101000</td>\n",
       "    </tr>\n",
       "  </tbody>\n",
       "</table>\n",
       "</div>"
      ],
      "text/plain": [
       "0                        TIPO DE PRODUCTO: Gravámenes Vigentes Ad / Valorem  \\\n",
       "1    DS.342-2016-EF-LEY 29666-IGV 20.02.11               Valor           0%   \n",
       "\n",
       "0 Impuesto Selectivo al Consumo Impuesto General a las Ventas  \\\n",
       "1                            0%                           16%   \n",
       "\n",
       "0 Impuesto de Promoción Municipal Derecho Específicos Derecho Antidumping  \\\n",
       "1                              2%                N.A.                N.A.   \n",
       "\n",
       "0 Seguro Sobretasa Tributo Unidad de Medida: Sobretasa Sanción     hs_code  \n",
       "1  1.25%                0%               (*)              N.A.  2934101000  "
      ]
     },
     "execution_count": 44,
     "metadata": {},
     "output_type": "execute_result"
    }
   ],
   "source": [
    "allt"
   ]
  },
  {
   "cell_type": "code",
   "execution_count": 16,
   "metadata": {},
   "outputs": [],
   "source": [
    "browser.switch_to.default_content()\n",
    "browser.switch_to.default_content()\n"
   ]
  },
  {
   "cell_type": "code",
   "execution_count": 31,
   "metadata": {},
   "outputs": [],
   "source": [
    "hs = '2934101000'\n",
    "hs_input = \"/html/body/form/div/table/tbody/tr[1]/td/input[1]\"\n",
    "consult_click = \"/html/body/form/div/table/tbody/tr[3]/td/input[1]\"\n",
    "\n",
    "browser.find_element(By.XPATH, hs_input).send_keys(hs)\n",
    "browser.find_element(By.XPATH, consult_click).click()"
   ]
  }
 ],
 "metadata": {
  "kernelspec": {
   "display_name": "sunat-api-EaG0R51m",
   "language": "python",
   "name": "python3"
  },
  "language_info": {
   "codemirror_mode": {
    "name": "ipython",
    "version": 3
   },
   "file_extension": ".py",
   "mimetype": "text/x-python",
   "name": "python",
   "nbconvert_exporter": "python",
   "pygments_lexer": "ipython3",
   "version": "3.10.9"
  }
 },
 "nbformat": 4,
 "nbformat_minor": 2
}
